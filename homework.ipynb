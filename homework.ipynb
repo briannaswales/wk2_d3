{
 "metadata": {
  "language_info": {
   "codemirror_mode": {
    "name": "ipython",
    "version": 3
   },
   "file_extension": ".py",
   "mimetype": "text/x-python",
   "name": "python",
   "nbconvert_exporter": "python",
   "pygments_lexer": "ipython3",
   "version": 3
  },
  "orig_nbformat": 2
 },
 "nbformat": 4,
 "nbformat_minor": 2,
 "cells": [
  {
   "cell_type": "code",
   "execution_count": null,
   "metadata": {},
   "outputs": [],
   "source": [
    "\n",
    "def shoppingList():\n",
    "    # Step 1 Create Dictionary and Store Input \n",
    "    list = {}\n",
    "    # Step 2 Create input\n",
    "    while True:\n",
    "        groc_q = input('Would you like to: Show/Add/Delete or Quit? ').lower().strip()\n",
    "        \n",
    "        if groc_q == 'add':\n",
    "            add_q = input('What would you like to add? ').lower().strip()\n",
    "            list[add_q] = list.get(add_q, 0)+1\n",
    "            clear_output()\n",
    "            \n",
    "        elif groc_q == 'delete':\n",
    "            del_q = input('What would you like to remove? ').lower().strip()\n",
    "            list[del_q] = list[del_q]-1\n",
    "            clear_output()\n",
    "            \n",
    "        elif groc_q == 'show':\n",
    "#             for key in list.items():\n",
    "            print(list)\n",
    "    \n",
    "        elif groc_q == 'quit':\n",
    "            print(list)\n",
    "            break\n",
    "\n",
    "\n",
    "        "
   ]
  },
  {
   "cell_type": "code",
   "execution_count": null,
   "metadata": {},
   "outputs": [],
   "source": [
    "import module2\n",
    "\n",
    "def houseShape():\n",
    "    circle_or_square = input('Is your house a circle or a square? ').lower().strip()\n",
    "    \n",
    "    if circle_or_square == 'circle':\n",
    "        radius = input('What is the radius? ').strip()\n",
    "        radius_int = int(radius)\n",
    "        return f'The circumference of your round home is {module2.circum_friends(radius_int)}.'\n",
    "    \n",
    "    if circle_or_square == 'square':\n",
    "        widthSq = input('What is the width?  ').strip\n",
    "        lengthSq = input('What is the length? ').strip\n",
    "        return f'The square footage of your home is {module2.sqr_ft(widthSq, lengthSq)}.'\n",
    "\n",
    "houseShape()"
   ]
  }
 ]
}